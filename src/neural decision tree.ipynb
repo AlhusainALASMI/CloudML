{
 "cells": [
  {
   "cell_type": "code",
   "execution_count": 135,
   "outputs": [],
   "source": [
    "import pandas as pd\n",
    "import numpy as np\n",
    "from sklearn.preprocessing import LabelEncoder\n",
    "from sklearn.tree import DecisionTreeClassifier\n",
    "from sklearn.ensemble import RandomForestClassifier\n",
    "from sklearn.neural_network import MLPClassifier\n",
    "from sklearn.datasets import load_iris\n",
    "from sklearn.model_selection import train_test_split\n",
    "from sklearn.metrics import accuracy_score\n",
    "from keras.models import Sequential\n",
    "from keras.layers import Dropout\n",
    "from keras.layers import Dense\n",
    "from keras.datasets import mnist\n",
    "from keras.callbacks import History"
   ],
   "metadata": {
    "collapsed": false,
    "ExecuteTime": {
     "end_time": "2023-10-15T14:49:37.477950600Z",
     "start_time": "2023-10-15T14:49:37.467439400Z"
    }
   }
  },
  {
   "cell_type": "code",
   "execution_count": 45,
   "outputs": [],
   "source": [
    "train = pd.read_csv(\"../data/train.csv\")"
   ],
   "metadata": {
    "collapsed": false,
    "ExecuteTime": {
     "end_time": "2023-10-15T14:25:46.642304100Z",
     "start_time": "2023-10-15T14:25:38.039048400Z"
    }
   }
  },
  {
   "cell_type": "code",
   "execution_count": 46,
   "outputs": [
    {
     "data": {
      "text/plain": "         Unnamed: 0          N°DPE Configuration_installation_chauffage_n°2  \\\n0                 0  2125E0981916Z                                      NaN   \n1                 1  2244E1531282F         Installation de chauffage simple   \n2                 2  2335E0208920V                                      NaN   \n3                 3  2144E0974339H                                      NaN   \n4                 4  2228E2613102B                                      NaN   \n...             ...            ...                                      ...   \n2499995     2499995  2206E0696284L                                      NaN   \n2499996     2499996  2206E0616319W                                      NaN   \n2499997     2499997  2280E1335565A                                      NaN   \n2499998     2499998  2256E1776887A                                      NaN   \n2499999     2499999  2260E0482478F                                      NaN   \n\n         Facteur_couverture_solaire_saisi  \\\n0                                     NaN   \n1                                     NaN   \n2                                     NaN   \n3                                     NaN   \n4                                     NaN   \n...                                   ...   \n2499995                               NaN   \n2499996                               NaN   \n2499997                               NaN   \n2499998                               NaN   \n2499999                               NaN   \n\n         Surface_habitable_desservie_par_installation_ECS  \\\n0                                                   110.4   \n1                                                    83.5   \n2                                                    68.0   \n3                                                     NaN   \n4                                                   142.5   \n...                                                   ...   \n2499995                                              82.7   \n2499996                                              94.7   \n2499997                                              27.5   \n2499998                                              28.8   \n2499999                                              62.0   \n\n         Emission_GES_éclairage Cage_d'escalier  \\\n0                          28.3             NaN   \n1                          10.6             NaN   \n2                           8.9             NaN   \n3                           1.8             NaN   \n4                          18.6             NaN   \n...                         ...             ...   \n2499995                    10.8             NaN   \n2499996                    12.4             NaN   \n2499997                     0.1             NaN   \n2499998                     3.8             NaN   \n2499999                     8.1             NaN   \n\n         Conso_5_usages_é_finale_énergie_n°2  \\\n0                                    10676.1   \n1                                     8678.1   \n2                                        NaN   \n3                                     2576.8   \n4                                      852.8   \n...                                      ...   \n2499995                                  NaN   \n2499996                                  NaN   \n2499997                                  NaN   \n2499998                                  NaN   \n2499999                               1111.7   \n\n                            Type_générateur_froid  \\\n0                                             NaN   \n1          PAC air/air installée à partir de 2015   \n2                                             NaN   \n3                                             NaN   \n4        PAC air/air installée entre 2008 et 2014   \n...                                           ...   \n2499995                                       NaN   \n2499996                                       NaN   \n2499997                                       NaN   \n2499998                                       NaN   \n2499999                                       NaN   \n\n         Type_émetteur_installation_chauffage_n°2  ...  \\\n0                                             NaN  ...   \n1        Convecteur électrique NFC, NF** et NF***  ...   \n2                                             NaN  ...   \n3                                             NaN  ...   \n4                                             NaN  ...   \n...                                           ...  ...   \n2499995                                       NaN  ...   \n2499996                                       NaN  ...   \n2499997                                       NaN  ...   \n2499998                                       NaN  ...   \n2499999                                       NaN  ...   \n\n         Qualité_isolation_enveloppe Qualité_isolation_menuiseries  \\\n0                       insuffisante                         bonne   \n1                       insuffisante                       moyenne   \n2                       insuffisante                  insuffisante   \n3                       insuffisante                       moyenne   \n4                       insuffisante                  insuffisante   \n...                              ...                           ...   \n2499995                 insuffisante                  insuffisante   \n2499996                        bonne                    très bonne   \n2499997                   très bonne                       moyenne   \n2499998                        bonne                         bonne   \n2499999                 insuffisante                       moyenne   \n\n         Qualité_isolation_murs  Qualité_isolation_plancher_bas  \\\n0                  insuffisante                      très bonne   \n1                  insuffisante                    insuffisante   \n2                  insuffisante                           bonne   \n3                  insuffisante                    insuffisante   \n4                  insuffisante                         moyenne   \n...                         ...                             ...   \n2499995            insuffisante                    insuffisante   \n2499996                   bonne                    insuffisante   \n2499997                   bonne                      très bonne   \n2499998            insuffisante                    insuffisante   \n2499999            insuffisante                    insuffisante   \n\n         Qualité_isolation_plancher_haut_comble_aménagé  \\\n0                                                   NaN   \n1                                                   NaN   \n2                                                   NaN   \n3                                                   NaN   \n4                                                   NaN   \n...                                                 ...   \n2499995                                             NaN   \n2499996                                             NaN   \n2499997                                             NaN   \n2499998                                             NaN   \n2499999                                             NaN   \n\n        Qualité_isolation_plancher_haut_comble_perdu  \\\n0                                       insuffisante   \n1                                       insuffisante   \n2                                         très bonne   \n3                                                NaN   \n4                                       insuffisante   \n...                                              ...   \n2499995                                 insuffisante   \n2499996                                      moyenne   \n2499997                                          NaN   \n2499998                                   très bonne   \n2499999                                      moyenne   \n\n        Qualité_isolation_plancher_haut_toit_terrase  \\\n0                                                NaN   \n1                                                NaN   \n2                                                NaN   \n3                                                NaN   \n4                                                NaN   \n...                                              ...   \n2499995                                          NaN   \n2499996                                          NaN   \n2499997                                          NaN   \n2499998                                          NaN   \n2499999                                          NaN   \n\n        Surface_habitable_immeuble Surface_habitable_logement  Type_bâtiment  \n0                            220.8                      220.8    appartement  \n1                              NaN                       83.5         maison  \n2                              NaN                       68.0         maison  \n3                           3292.3                       47.5    appartement  \n4                              NaN                      142.5         maison  \n...                            ...                        ...            ...  \n2499995                        NaN                       82.7         maison  \n2499996                        NaN                       94.7         maison  \n2499997                        NaN                       27.5    appartement  \n2499998                        NaN                       28.8    appartement  \n2499999                        NaN                       62.0    appartement  \n\n[2500000 rows x 40 columns]",
      "text/html": "<div>\n<style scoped>\n    .dataframe tbody tr th:only-of-type {\n        vertical-align: middle;\n    }\n\n    .dataframe tbody tr th {\n        vertical-align: top;\n    }\n\n    .dataframe thead th {\n        text-align: right;\n    }\n</style>\n<table border=\"1\" class=\"dataframe\">\n  <thead>\n    <tr style=\"text-align: right;\">\n      <th></th>\n      <th>Unnamed: 0</th>\n      <th>N°DPE</th>\n      <th>Configuration_installation_chauffage_n°2</th>\n      <th>Facteur_couverture_solaire_saisi</th>\n      <th>Surface_habitable_desservie_par_installation_ECS</th>\n      <th>Emission_GES_éclairage</th>\n      <th>Cage_d'escalier</th>\n      <th>Conso_5_usages_é_finale_énergie_n°2</th>\n      <th>Type_générateur_froid</th>\n      <th>Type_émetteur_installation_chauffage_n°2</th>\n      <th>...</th>\n      <th>Qualité_isolation_enveloppe</th>\n      <th>Qualité_isolation_menuiseries</th>\n      <th>Qualité_isolation_murs</th>\n      <th>Qualité_isolation_plancher_bas</th>\n      <th>Qualité_isolation_plancher_haut_comble_aménagé</th>\n      <th>Qualité_isolation_plancher_haut_comble_perdu</th>\n      <th>Qualité_isolation_plancher_haut_toit_terrase</th>\n      <th>Surface_habitable_immeuble</th>\n      <th>Surface_habitable_logement</th>\n      <th>Type_bâtiment</th>\n    </tr>\n  </thead>\n  <tbody>\n    <tr>\n      <th>0</th>\n      <td>0</td>\n      <td>2125E0981916Z</td>\n      <td>NaN</td>\n      <td>NaN</td>\n      <td>110.4</td>\n      <td>28.3</td>\n      <td>NaN</td>\n      <td>10676.1</td>\n      <td>NaN</td>\n      <td>NaN</td>\n      <td>...</td>\n      <td>insuffisante</td>\n      <td>bonne</td>\n      <td>insuffisante</td>\n      <td>très bonne</td>\n      <td>NaN</td>\n      <td>insuffisante</td>\n      <td>NaN</td>\n      <td>220.8</td>\n      <td>220.8</td>\n      <td>appartement</td>\n    </tr>\n    <tr>\n      <th>1</th>\n      <td>1</td>\n      <td>2244E1531282F</td>\n      <td>Installation de chauffage simple</td>\n      <td>NaN</td>\n      <td>83.5</td>\n      <td>10.6</td>\n      <td>NaN</td>\n      <td>8678.1</td>\n      <td>PAC air/air installée à partir de 2015</td>\n      <td>Convecteur électrique NFC, NF** et NF***</td>\n      <td>...</td>\n      <td>insuffisante</td>\n      <td>moyenne</td>\n      <td>insuffisante</td>\n      <td>insuffisante</td>\n      <td>NaN</td>\n      <td>insuffisante</td>\n      <td>NaN</td>\n      <td>NaN</td>\n      <td>83.5</td>\n      <td>maison</td>\n    </tr>\n    <tr>\n      <th>2</th>\n      <td>2</td>\n      <td>2335E0208920V</td>\n      <td>NaN</td>\n      <td>NaN</td>\n      <td>68.0</td>\n      <td>8.9</td>\n      <td>NaN</td>\n      <td>NaN</td>\n      <td>NaN</td>\n      <td>NaN</td>\n      <td>...</td>\n      <td>insuffisante</td>\n      <td>insuffisante</td>\n      <td>insuffisante</td>\n      <td>bonne</td>\n      <td>NaN</td>\n      <td>très bonne</td>\n      <td>NaN</td>\n      <td>NaN</td>\n      <td>68.0</td>\n      <td>maison</td>\n    </tr>\n    <tr>\n      <th>3</th>\n      <td>3</td>\n      <td>2144E0974339H</td>\n      <td>NaN</td>\n      <td>NaN</td>\n      <td>NaN</td>\n      <td>1.8</td>\n      <td>NaN</td>\n      <td>2576.8</td>\n      <td>NaN</td>\n      <td>NaN</td>\n      <td>...</td>\n      <td>insuffisante</td>\n      <td>moyenne</td>\n      <td>insuffisante</td>\n      <td>insuffisante</td>\n      <td>NaN</td>\n      <td>NaN</td>\n      <td>NaN</td>\n      <td>3292.3</td>\n      <td>47.5</td>\n      <td>appartement</td>\n    </tr>\n    <tr>\n      <th>4</th>\n      <td>4</td>\n      <td>2228E2613102B</td>\n      <td>NaN</td>\n      <td>NaN</td>\n      <td>142.5</td>\n      <td>18.6</td>\n      <td>NaN</td>\n      <td>852.8</td>\n      <td>PAC air/air installée entre 2008 et 2014</td>\n      <td>NaN</td>\n      <td>...</td>\n      <td>insuffisante</td>\n      <td>insuffisante</td>\n      <td>insuffisante</td>\n      <td>moyenne</td>\n      <td>NaN</td>\n      <td>insuffisante</td>\n      <td>NaN</td>\n      <td>NaN</td>\n      <td>142.5</td>\n      <td>maison</td>\n    </tr>\n    <tr>\n      <th>...</th>\n      <td>...</td>\n      <td>...</td>\n      <td>...</td>\n      <td>...</td>\n      <td>...</td>\n      <td>...</td>\n      <td>...</td>\n      <td>...</td>\n      <td>...</td>\n      <td>...</td>\n      <td>...</td>\n      <td>...</td>\n      <td>...</td>\n      <td>...</td>\n      <td>...</td>\n      <td>...</td>\n      <td>...</td>\n      <td>...</td>\n      <td>...</td>\n      <td>...</td>\n      <td>...</td>\n    </tr>\n    <tr>\n      <th>2499995</th>\n      <td>2499995</td>\n      <td>2206E0696284L</td>\n      <td>NaN</td>\n      <td>NaN</td>\n      <td>82.7</td>\n      <td>10.8</td>\n      <td>NaN</td>\n      <td>NaN</td>\n      <td>NaN</td>\n      <td>NaN</td>\n      <td>...</td>\n      <td>insuffisante</td>\n      <td>insuffisante</td>\n      <td>insuffisante</td>\n      <td>insuffisante</td>\n      <td>NaN</td>\n      <td>insuffisante</td>\n      <td>NaN</td>\n      <td>NaN</td>\n      <td>82.7</td>\n      <td>maison</td>\n    </tr>\n    <tr>\n      <th>2499996</th>\n      <td>2499996</td>\n      <td>2206E0616319W</td>\n      <td>NaN</td>\n      <td>NaN</td>\n      <td>94.7</td>\n      <td>12.4</td>\n      <td>NaN</td>\n      <td>NaN</td>\n      <td>NaN</td>\n      <td>NaN</td>\n      <td>...</td>\n      <td>bonne</td>\n      <td>très bonne</td>\n      <td>bonne</td>\n      <td>insuffisante</td>\n      <td>NaN</td>\n      <td>moyenne</td>\n      <td>NaN</td>\n      <td>NaN</td>\n      <td>94.7</td>\n      <td>maison</td>\n    </tr>\n    <tr>\n      <th>2499997</th>\n      <td>2499997</td>\n      <td>2280E1335565A</td>\n      <td>NaN</td>\n      <td>NaN</td>\n      <td>27.5</td>\n      <td>0.1</td>\n      <td>NaN</td>\n      <td>NaN</td>\n      <td>NaN</td>\n      <td>NaN</td>\n      <td>...</td>\n      <td>très bonne</td>\n      <td>moyenne</td>\n      <td>bonne</td>\n      <td>très bonne</td>\n      <td>NaN</td>\n      <td>NaN</td>\n      <td>NaN</td>\n      <td>NaN</td>\n      <td>27.5</td>\n      <td>appartement</td>\n    </tr>\n    <tr>\n      <th>2499998</th>\n      <td>2499998</td>\n      <td>2256E1776887A</td>\n      <td>NaN</td>\n      <td>NaN</td>\n      <td>28.8</td>\n      <td>3.8</td>\n      <td>NaN</td>\n      <td>NaN</td>\n      <td>NaN</td>\n      <td>NaN</td>\n      <td>...</td>\n      <td>bonne</td>\n      <td>bonne</td>\n      <td>insuffisante</td>\n      <td>insuffisante</td>\n      <td>NaN</td>\n      <td>très bonne</td>\n      <td>NaN</td>\n      <td>NaN</td>\n      <td>28.8</td>\n      <td>appartement</td>\n    </tr>\n    <tr>\n      <th>2499999</th>\n      <td>2499999</td>\n      <td>2260E0482478F</td>\n      <td>NaN</td>\n      <td>NaN</td>\n      <td>62.0</td>\n      <td>8.1</td>\n      <td>NaN</td>\n      <td>1111.7</td>\n      <td>NaN</td>\n      <td>NaN</td>\n      <td>...</td>\n      <td>insuffisante</td>\n      <td>moyenne</td>\n      <td>insuffisante</td>\n      <td>insuffisante</td>\n      <td>NaN</td>\n      <td>moyenne</td>\n      <td>NaN</td>\n      <td>NaN</td>\n      <td>62.0</td>\n      <td>appartement</td>\n    </tr>\n  </tbody>\n</table>\n<p>2500000 rows × 40 columns</p>\n</div>"
     },
     "execution_count": 46,
     "metadata": {},
     "output_type": "execute_result"
    }
   ],
   "source": [
    "train"
   ],
   "metadata": {
    "collapsed": false,
    "ExecuteTime": {
     "end_time": "2023-10-15T14:25:47.805752100Z",
     "start_time": "2023-10-15T14:25:46.644294200Z"
    }
   }
  },
  {
   "cell_type": "code",
   "execution_count": 47,
   "outputs": [],
   "source": [
    "train.drop([\"Unnamed: 0\",\n",
    "    \"N°DPE\",\n",
    "    \"Nom__commune_(Brut)\",\n",
    "    \"N°_département_(BAN)\",\n",
    "    \"Code_INSEE_(BAN)\",\n",
    "    \"Code_postal_(brut)\",\n",
    "    \"Code_postal_(BAN)\",\n",
    "    \"Description_générateur_chauffage_n°2_installation_n°2\",\n",
    "    \"Cage_d'escalier\",\n",
    "    \"Configuration_installation_chauffage_n°2\",\n",
    "    \"Type_générateur_froid\",\n",
    "    \"Type_émetteur_installation_chauffage_n°2\",\n",
    "    \"Type_énergie_n°3\",\n",
    "    \"Type_générateur_n°1_installation_n°2\",\n",
    "    \"Qualité_isolation_plancher_haut_toit_terrase\",\n",
    "    \"Facteur_couverture_solaire_saisi\",\n",
    "    \"Surface_totale_capteurs_photovoltaïque\",\n",
    "    \"Facteur_couverture_solaire\",\n",
    "    \"Cage_d'escalier\",\n",
    "    \"Surface_habitable_immeuble\",\n",
    "    \"Qualité_isolation_plancher_haut_comble_aménagé\"], axis = 1, inplace = True)"
   ],
   "metadata": {
    "collapsed": false,
    "ExecuteTime": {
     "end_time": "2023-10-15T14:25:48.181155400Z",
     "start_time": "2023-10-15T14:25:47.794676800Z"
    }
   }
  },
  {
   "cell_type": "code",
   "execution_count": 48,
   "outputs": [],
   "source": [
    "le1 = LabelEncoder()\n",
    "le2 = LabelEncoder()\n",
    "le3 = LabelEncoder()\n",
    "le4 = LabelEncoder()\n",
    "le5 = LabelEncoder()\n",
    "le6 = LabelEncoder()\n",
    "le7 = LabelEncoder()\n",
    "le8 = LabelEncoder()\n",
    "le9 = LabelEncoder()\n"
   ],
   "metadata": {
    "collapsed": false,
    "ExecuteTime": {
     "end_time": "2023-10-15T14:25:48.196789700Z",
     "start_time": "2023-10-15T14:25:48.184191300Z"
    }
   }
  },
  {
   "cell_type": "code",
   "execution_count": 49,
   "outputs": [],
   "source": [
    "train.Type_bâtiment = le1.fit_transform(train.Type_bâtiment)\n",
    "train.Qualité_isolation_plancher_haut_comble_perdu = le2.fit_transform(train.Qualité_isolation_plancher_haut_comble_perdu)\n",
    "train.Qualité_isolation_enveloppe = le3.fit_transform(train.Qualité_isolation_enveloppe)\n",
    "train.Qualité_isolation_menuiseries = le4.fit_transform(train.Qualité_isolation_menuiseries)\n",
    "train.Qualité_isolation_murs = le5.fit_transform(train.Qualité_isolation_murs)\n",
    "train.Qualité_isolation_plancher_bas = le6.fit_transform(train.Qualité_isolation_plancher_bas)\n",
    "train.Etiquette_GES = le7.fit_transform(train.Etiquette_GES)\n",
    "train.Classe_altitude = le8.fit_transform(train.Classe_altitude)\n",
    "train.Etiquette_DPE = le9.fit_transform(train.Etiquette_DPE)"
   ],
   "metadata": {
    "collapsed": false,
    "ExecuteTime": {
     "end_time": "2023-10-15T14:25:51.431620900Z",
     "start_time": "2023-10-15T14:25:48.287970300Z"
    }
   }
  },
  {
   "cell_type": "code",
   "execution_count": 50,
   "outputs": [],
   "source": [
    "train = train.fillna(0)"
   ],
   "metadata": {
    "collapsed": false,
    "ExecuteTime": {
     "end_time": "2023-10-15T14:25:51.587182300Z",
     "start_time": "2023-10-15T14:25:51.434621Z"
    }
   }
  },
  {
   "cell_type": "code",
   "execution_count": 51,
   "outputs": [
    {
     "data": {
      "text/plain": "         Surface_habitable_desservie_par_installation_ECS  \\\n0                                                   110.4   \n1                                                    83.5   \n2                                                    68.0   \n3                                                     0.0   \n4                                                   142.5   \n...                                                   ...   \n2499995                                              82.7   \n2499996                                              94.7   \n2499997                                              27.5   \n2499998                                              28.8   \n2499999                                              62.0   \n\n         Emission_GES_éclairage  Conso_5_usages_é_finale_énergie_n°2  \\\n0                          28.3                              10676.1   \n1                          10.6                               8678.1   \n2                           8.9                                  0.0   \n3                           1.8                               2576.8   \n4                          18.6                                852.8   \n...                         ...                                  ...   \n2499995                    10.8                                  0.0   \n2499996                    12.4                                  0.0   \n2499997                     0.1                                  0.0   \n2499998                     3.8                                  0.0   \n2499999                     8.1                               1111.7   \n\n         Conso_chauffage_dépensier_installation_chauffage_n°1  \\\n0                                                  39870.0      \n1                                                  17902.3      \n2                                                   7791.8      \n3                                                      0.0      \n4                                                  48799.7      \n...                                                    ...      \n2499995                                            25595.9      \n2499996                                             7342.8      \n2499997                                             1879.4      \n2499998                                             1896.9      \n2499999                                            15215.0      \n\n         Coût_chauffage_énergie_n°2  Emission_GES_chauffage_énergie_n°2  \\\n0                             342.0                                 0.0   \n1                            1229.2                               577.4   \n2                               0.0                                 0.0   \n3                               0.0                                 0.0   \n4                               0.0                                 0.0   \n...                             ...                                 ...   \n2499995                         0.0                                 0.0   \n2499996                         0.0                                 0.0   \n2499997                         0.0                                 0.0   \n2499998                         0.0                                 0.0   \n2499999                         0.0                                 0.0   \n\n         Etiquette_GES  Année_construction  Classe_altitude  \\\n0                    2              1945.0                1   \n1                    2                 0.0                1   \n2                    1              1983.0                1   \n3                    2              1976.0                3   \n4                    4              1945.0                1   \n...                ...                 ...              ...   \n2499995              2              1947.0                1   \n2499996              1              1960.0                1   \n2499997              1              1949.0                1   \n2499998              1                 0.0                1   \n2499999              3              1948.0                1   \n\n         Conso_5_usages/m²_é_finale  Conso_5_usages_é_finale  Etiquette_DPE  \\\n0                             171.9                  37940.5              3   \n1                             221.0                  18484.5              5   \n2                             130.5                   8873.0              4   \n3                             162.6                   7729.5              2   \n4                             303.8                  43275.4              4   \n...                             ...                      ...            ...   \n2499995                       273.0                  22616.6              6   \n2499996                        94.0                   8908.4              3   \n2499997                       113.0                   3103.9              4   \n2499998                       106.0                   3065.5              3   \n2499999                       215.0                  13364.8              3   \n\n         Hauteur_sous-plafond  Qualité_isolation_enveloppe  \\\n0                         2.9                            1   \n1                         2.5                            1   \n2                         2.5                            1   \n3                         2.5                            1   \n4                         2.8                            1   \n...                       ...                          ...   \n2499995                   2.5                            1   \n2499996                   2.6                            0   \n2499997                   2.5                            3   \n2499998                   2.5                            0   \n2499999                   2.5                            1   \n\n         Qualité_isolation_menuiseries  Qualité_isolation_murs  \\\n0                                    0                       1   \n1                                    2                       1   \n2                                    1                       1   \n3                                    2                       1   \n4                                    1                       1   \n...                                ...                     ...   \n2499995                              1                       1   \n2499996                              3                       0   \n2499997                              2                       0   \n2499998                              0                       1   \n2499999                              2                       1   \n\n         Qualité_isolation_plancher_bas  \\\n0                                     3   \n1                                     1   \n2                                     0   \n3                                     1   \n4                                     2   \n...                                 ...   \n2499995                               1   \n2499996                               1   \n2499997                               3   \n2499998                               1   \n2499999                               1   \n\n         Qualité_isolation_plancher_haut_comble_perdu  \\\n0                                                   1   \n1                                                   1   \n2                                                   3   \n3                                                   4   \n4                                                   1   \n...                                               ...   \n2499995                                             1   \n2499996                                             2   \n2499997                                             4   \n2499998                                             3   \n2499999                                             2   \n\n         Surface_habitable_logement  Type_bâtiment  \n0                             220.8              0  \n1                              83.5              2  \n2                              68.0              2  \n3                              47.5              0  \n4                             142.5              2  \n...                             ...            ...  \n2499995                        82.7              2  \n2499996                        94.7              2  \n2499997                        27.5              0  \n2499998                        28.8              0  \n2499999                        62.0              0  \n\n[2500000 rows x 20 columns]",
      "text/html": "<div>\n<style scoped>\n    .dataframe tbody tr th:only-of-type {\n        vertical-align: middle;\n    }\n\n    .dataframe tbody tr th {\n        vertical-align: top;\n    }\n\n    .dataframe thead th {\n        text-align: right;\n    }\n</style>\n<table border=\"1\" class=\"dataframe\">\n  <thead>\n    <tr style=\"text-align: right;\">\n      <th></th>\n      <th>Surface_habitable_desservie_par_installation_ECS</th>\n      <th>Emission_GES_éclairage</th>\n      <th>Conso_5_usages_é_finale_énergie_n°2</th>\n      <th>Conso_chauffage_dépensier_installation_chauffage_n°1</th>\n      <th>Coût_chauffage_énergie_n°2</th>\n      <th>Emission_GES_chauffage_énergie_n°2</th>\n      <th>Etiquette_GES</th>\n      <th>Année_construction</th>\n      <th>Classe_altitude</th>\n      <th>Conso_5_usages/m²_é_finale</th>\n      <th>Conso_5_usages_é_finale</th>\n      <th>Etiquette_DPE</th>\n      <th>Hauteur_sous-plafond</th>\n      <th>Qualité_isolation_enveloppe</th>\n      <th>Qualité_isolation_menuiseries</th>\n      <th>Qualité_isolation_murs</th>\n      <th>Qualité_isolation_plancher_bas</th>\n      <th>Qualité_isolation_plancher_haut_comble_perdu</th>\n      <th>Surface_habitable_logement</th>\n      <th>Type_bâtiment</th>\n    </tr>\n  </thead>\n  <tbody>\n    <tr>\n      <th>0</th>\n      <td>110.4</td>\n      <td>28.3</td>\n      <td>10676.1</td>\n      <td>39870.0</td>\n      <td>342.0</td>\n      <td>0.0</td>\n      <td>2</td>\n      <td>1945.0</td>\n      <td>1</td>\n      <td>171.9</td>\n      <td>37940.5</td>\n      <td>3</td>\n      <td>2.9</td>\n      <td>1</td>\n      <td>0</td>\n      <td>1</td>\n      <td>3</td>\n      <td>1</td>\n      <td>220.8</td>\n      <td>0</td>\n    </tr>\n    <tr>\n      <th>1</th>\n      <td>83.5</td>\n      <td>10.6</td>\n      <td>8678.1</td>\n      <td>17902.3</td>\n      <td>1229.2</td>\n      <td>577.4</td>\n      <td>2</td>\n      <td>0.0</td>\n      <td>1</td>\n      <td>221.0</td>\n      <td>18484.5</td>\n      <td>5</td>\n      <td>2.5</td>\n      <td>1</td>\n      <td>2</td>\n      <td>1</td>\n      <td>1</td>\n      <td>1</td>\n      <td>83.5</td>\n      <td>2</td>\n    </tr>\n    <tr>\n      <th>2</th>\n      <td>68.0</td>\n      <td>8.9</td>\n      <td>0.0</td>\n      <td>7791.8</td>\n      <td>0.0</td>\n      <td>0.0</td>\n      <td>1</td>\n      <td>1983.0</td>\n      <td>1</td>\n      <td>130.5</td>\n      <td>8873.0</td>\n      <td>4</td>\n      <td>2.5</td>\n      <td>1</td>\n      <td>1</td>\n      <td>1</td>\n      <td>0</td>\n      <td>3</td>\n      <td>68.0</td>\n      <td>2</td>\n    </tr>\n    <tr>\n      <th>3</th>\n      <td>0.0</td>\n      <td>1.8</td>\n      <td>2576.8</td>\n      <td>0.0</td>\n      <td>0.0</td>\n      <td>0.0</td>\n      <td>2</td>\n      <td>1976.0</td>\n      <td>3</td>\n      <td>162.6</td>\n      <td>7729.5</td>\n      <td>2</td>\n      <td>2.5</td>\n      <td>1</td>\n      <td>2</td>\n      <td>1</td>\n      <td>1</td>\n      <td>4</td>\n      <td>47.5</td>\n      <td>0</td>\n    </tr>\n    <tr>\n      <th>4</th>\n      <td>142.5</td>\n      <td>18.6</td>\n      <td>852.8</td>\n      <td>48799.7</td>\n      <td>0.0</td>\n      <td>0.0</td>\n      <td>4</td>\n      <td>1945.0</td>\n      <td>1</td>\n      <td>303.8</td>\n      <td>43275.4</td>\n      <td>4</td>\n      <td>2.8</td>\n      <td>1</td>\n      <td>1</td>\n      <td>1</td>\n      <td>2</td>\n      <td>1</td>\n      <td>142.5</td>\n      <td>2</td>\n    </tr>\n    <tr>\n      <th>...</th>\n      <td>...</td>\n      <td>...</td>\n      <td>...</td>\n      <td>...</td>\n      <td>...</td>\n      <td>...</td>\n      <td>...</td>\n      <td>...</td>\n      <td>...</td>\n      <td>...</td>\n      <td>...</td>\n      <td>...</td>\n      <td>...</td>\n      <td>...</td>\n      <td>...</td>\n      <td>...</td>\n      <td>...</td>\n      <td>...</td>\n      <td>...</td>\n      <td>...</td>\n    </tr>\n    <tr>\n      <th>2499995</th>\n      <td>82.7</td>\n      <td>10.8</td>\n      <td>0.0</td>\n      <td>25595.9</td>\n      <td>0.0</td>\n      <td>0.0</td>\n      <td>2</td>\n      <td>1947.0</td>\n      <td>1</td>\n      <td>273.0</td>\n      <td>22616.6</td>\n      <td>6</td>\n      <td>2.5</td>\n      <td>1</td>\n      <td>1</td>\n      <td>1</td>\n      <td>1</td>\n      <td>1</td>\n      <td>82.7</td>\n      <td>2</td>\n    </tr>\n    <tr>\n      <th>2499996</th>\n      <td>94.7</td>\n      <td>12.4</td>\n      <td>0.0</td>\n      <td>7342.8</td>\n      <td>0.0</td>\n      <td>0.0</td>\n      <td>1</td>\n      <td>1960.0</td>\n      <td>1</td>\n      <td>94.0</td>\n      <td>8908.4</td>\n      <td>3</td>\n      <td>2.6</td>\n      <td>0</td>\n      <td>3</td>\n      <td>0</td>\n      <td>1</td>\n      <td>2</td>\n      <td>94.7</td>\n      <td>2</td>\n    </tr>\n    <tr>\n      <th>2499997</th>\n      <td>27.5</td>\n      <td>0.1</td>\n      <td>0.0</td>\n      <td>1879.4</td>\n      <td>0.0</td>\n      <td>0.0</td>\n      <td>1</td>\n      <td>1949.0</td>\n      <td>1</td>\n      <td>113.0</td>\n      <td>3103.9</td>\n      <td>4</td>\n      <td>2.5</td>\n      <td>3</td>\n      <td>2</td>\n      <td>0</td>\n      <td>3</td>\n      <td>4</td>\n      <td>27.5</td>\n      <td>0</td>\n    </tr>\n    <tr>\n      <th>2499998</th>\n      <td>28.8</td>\n      <td>3.8</td>\n      <td>0.0</td>\n      <td>1896.9</td>\n      <td>0.0</td>\n      <td>0.0</td>\n      <td>1</td>\n      <td>0.0</td>\n      <td>1</td>\n      <td>106.0</td>\n      <td>3065.5</td>\n      <td>3</td>\n      <td>2.5</td>\n      <td>0</td>\n      <td>0</td>\n      <td>1</td>\n      <td>1</td>\n      <td>3</td>\n      <td>28.8</td>\n      <td>0</td>\n    </tr>\n    <tr>\n      <th>2499999</th>\n      <td>62.0</td>\n      <td>8.1</td>\n      <td>1111.7</td>\n      <td>15215.0</td>\n      <td>0.0</td>\n      <td>0.0</td>\n      <td>3</td>\n      <td>1948.0</td>\n      <td>1</td>\n      <td>215.0</td>\n      <td>13364.8</td>\n      <td>3</td>\n      <td>2.5</td>\n      <td>1</td>\n      <td>2</td>\n      <td>1</td>\n      <td>1</td>\n      <td>2</td>\n      <td>62.0</td>\n      <td>0</td>\n    </tr>\n  </tbody>\n</table>\n<p>2500000 rows × 20 columns</p>\n</div>"
     },
     "execution_count": 51,
     "metadata": {},
     "output_type": "execute_result"
    }
   ],
   "source": [
    "train"
   ],
   "metadata": {
    "collapsed": false,
    "ExecuteTime": {
     "end_time": "2023-10-15T14:25:51.636821400Z",
     "start_time": "2023-10-15T14:25:51.602205600Z"
    }
   }
  },
  {
   "cell_type": "code",
   "execution_count": 52,
   "outputs": [],
   "source": [
    "train = train.astype(float)"
   ],
   "metadata": {
    "collapsed": false,
    "ExecuteTime": {
     "end_time": "2023-10-15T14:25:51.731346Z",
     "start_time": "2023-10-15T14:25:51.621306900Z"
    }
   }
  },
  {
   "cell_type": "code",
   "execution_count": 53,
   "outputs": [],
   "source": [
    "target = train['Etiquette_DPE']"
   ],
   "metadata": {
    "collapsed": false,
    "ExecuteTime": {
     "end_time": "2023-10-15T14:25:51.731346Z",
     "start_time": "2023-10-15T14:25:51.715988700Z"
    }
   }
  },
  {
   "cell_type": "code",
   "execution_count": 54,
   "outputs": [],
   "source": [
    "target = target.astype(int)"
   ],
   "metadata": {
    "collapsed": false,
    "ExecuteTime": {
     "end_time": "2023-10-15T14:25:51.760097500Z",
     "start_time": "2023-10-15T14:25:51.732345400Z"
    }
   }
  },
  {
   "cell_type": "code",
   "execution_count": 55,
   "outputs": [],
   "source": [
    "train.drop(\"Etiquette_DPE\", axis = 1, inplace = True)"
   ],
   "metadata": {
    "collapsed": false,
    "ExecuteTime": {
     "end_time": "2023-10-15T14:25:51.876095100Z",
     "start_time": "2023-10-15T14:25:51.747347100Z"
    }
   }
  },
  {
   "cell_type": "code",
   "execution_count": 56,
   "outputs": [
    {
     "data": {
      "text/plain": "DecisionTreeClassifier()",
      "text/html": "<style>#sk-container-id-3 {color: black;background-color: white;}#sk-container-id-3 pre{padding: 0;}#sk-container-id-3 div.sk-toggleable {background-color: white;}#sk-container-id-3 label.sk-toggleable__label {cursor: pointer;display: block;width: 100%;margin-bottom: 0;padding: 0.3em;box-sizing: border-box;text-align: center;}#sk-container-id-3 label.sk-toggleable__label-arrow:before {content: \"▸\";float: left;margin-right: 0.25em;color: #696969;}#sk-container-id-3 label.sk-toggleable__label-arrow:hover:before {color: black;}#sk-container-id-3 div.sk-estimator:hover label.sk-toggleable__label-arrow:before {color: black;}#sk-container-id-3 div.sk-toggleable__content {max-height: 0;max-width: 0;overflow: hidden;text-align: left;background-color: #f0f8ff;}#sk-container-id-3 div.sk-toggleable__content pre {margin: 0.2em;color: black;border-radius: 0.25em;background-color: #f0f8ff;}#sk-container-id-3 input.sk-toggleable__control:checked~div.sk-toggleable__content {max-height: 200px;max-width: 100%;overflow: auto;}#sk-container-id-3 input.sk-toggleable__control:checked~label.sk-toggleable__label-arrow:before {content: \"▾\";}#sk-container-id-3 div.sk-estimator input.sk-toggleable__control:checked~label.sk-toggleable__label {background-color: #d4ebff;}#sk-container-id-3 div.sk-label input.sk-toggleable__control:checked~label.sk-toggleable__label {background-color: #d4ebff;}#sk-container-id-3 input.sk-hidden--visually {border: 0;clip: rect(1px 1px 1px 1px);clip: rect(1px, 1px, 1px, 1px);height: 1px;margin: -1px;overflow: hidden;padding: 0;position: absolute;width: 1px;}#sk-container-id-3 div.sk-estimator {font-family: monospace;background-color: #f0f8ff;border: 1px dotted black;border-radius: 0.25em;box-sizing: border-box;margin-bottom: 0.5em;}#sk-container-id-3 div.sk-estimator:hover {background-color: #d4ebff;}#sk-container-id-3 div.sk-parallel-item::after {content: \"\";width: 100%;border-bottom: 1px solid gray;flex-grow: 1;}#sk-container-id-3 div.sk-label:hover label.sk-toggleable__label {background-color: #d4ebff;}#sk-container-id-3 div.sk-serial::before {content: \"\";position: absolute;border-left: 1px solid gray;box-sizing: border-box;top: 0;bottom: 0;left: 50%;z-index: 0;}#sk-container-id-3 div.sk-serial {display: flex;flex-direction: column;align-items: center;background-color: white;padding-right: 0.2em;padding-left: 0.2em;position: relative;}#sk-container-id-3 div.sk-item {position: relative;z-index: 1;}#sk-container-id-3 div.sk-parallel {display: flex;align-items: stretch;justify-content: center;background-color: white;position: relative;}#sk-container-id-3 div.sk-item::before, #sk-container-id-3 div.sk-parallel-item::before {content: \"\";position: absolute;border-left: 1px solid gray;box-sizing: border-box;top: 0;bottom: 0;left: 50%;z-index: -1;}#sk-container-id-3 div.sk-parallel-item {display: flex;flex-direction: column;z-index: 1;position: relative;background-color: white;}#sk-container-id-3 div.sk-parallel-item:first-child::after {align-self: flex-end;width: 50%;}#sk-container-id-3 div.sk-parallel-item:last-child::after {align-self: flex-start;width: 50%;}#sk-container-id-3 div.sk-parallel-item:only-child::after {width: 0;}#sk-container-id-3 div.sk-dashed-wrapped {border: 1px dashed gray;margin: 0 0.4em 0.5em 0.4em;box-sizing: border-box;padding-bottom: 0.4em;background-color: white;}#sk-container-id-3 div.sk-label label {font-family: monospace;font-weight: bold;display: inline-block;line-height: 1.2em;}#sk-container-id-3 div.sk-label-container {text-align: center;}#sk-container-id-3 div.sk-container {/* jupyter's `normalize.less` sets `[hidden] { display: none; }` but bootstrap.min.css set `[hidden] { display: none !important; }` so we also need the `!important` here to be able to override the default hidden behavior on the sphinx rendered scikit-learn.org. See: https://github.com/scikit-learn/scikit-learn/issues/21755 */display: inline-block !important;position: relative;}#sk-container-id-3 div.sk-text-repr-fallback {display: none;}</style><div id=\"sk-container-id-3\" class=\"sk-top-container\"><div class=\"sk-text-repr-fallback\"><pre>DecisionTreeClassifier()</pre><b>In a Jupyter environment, please rerun this cell to show the HTML representation or trust the notebook. <br />On GitHub, the HTML representation is unable to render, please try loading this page with nbviewer.org.</b></div><div class=\"sk-container\" hidden><div class=\"sk-item\"><div class=\"sk-estimator sk-toggleable\"><input class=\"sk-toggleable__control sk-hidden--visually\" id=\"sk-estimator-id-3\" type=\"checkbox\" checked><label for=\"sk-estimator-id-3\" class=\"sk-toggleable__label sk-toggleable__label-arrow\">DecisionTreeClassifier</label><div class=\"sk-toggleable__content\"><pre>DecisionTreeClassifier()</pre></div></div></div></div></div>"
     },
     "execution_count": 56,
     "metadata": {},
     "output_type": "execute_result"
    }
   ],
   "source": [
    "decision_tree = DecisionTreeClassifier()\n",
    "decision_tree.fit(train, target)"
   ],
   "metadata": {
    "collapsed": false,
    "ExecuteTime": {
     "end_time": "2023-10-15T14:26:18.839853300Z",
     "start_time": "2023-10-15T14:25:51.872095100Z"
    }
   }
  },
  {
   "cell_type": "code",
   "execution_count": 57,
   "outputs": [
    {
     "data": {
      "text/plain": "(2500000, 19)"
     },
     "execution_count": 57,
     "metadata": {},
     "output_type": "execute_result"
    }
   ],
   "source": [
    "train.shape"
   ],
   "metadata": {
    "collapsed": false,
    "ExecuteTime": {
     "end_time": "2023-10-15T14:26:18.862897200Z",
     "start_time": "2023-10-15T14:26:18.841903200Z"
    }
   }
  },
  {
   "cell_type": "code",
   "execution_count": 67,
   "outputs": [],
   "source": [
    "target = pd.get_dummies(target, dtype=float)"
   ],
   "metadata": {
    "collapsed": false,
    "ExecuteTime": {
     "end_time": "2023-10-15T14:30:51.535171900Z",
     "start_time": "2023-10-15T14:30:51.503385400Z"
    }
   }
  },
  {
   "cell_type": "code",
   "execution_count": 68,
   "outputs": [
    {
     "data": {
      "text/plain": "         0  1  2  3  4  5  6\n0        0  0  0  1  0  0  0\n1        0  0  0  0  0  1  0\n2        0  0  0  0  1  0  0\n3        0  0  1  0  0  0  0\n4        0  0  0  0  1  0  0\n...     .. .. .. .. .. .. ..\n2499995  0  0  0  0  0  0  1\n2499996  0  0  0  1  0  0  0\n2499997  0  0  0  0  1  0  0\n2499998  0  0  0  1  0  0  0\n2499999  0  0  0  1  0  0  0\n\n[2500000 rows x 7 columns]",
      "text/html": "<div>\n<style scoped>\n    .dataframe tbody tr th:only-of-type {\n        vertical-align: middle;\n    }\n\n    .dataframe tbody tr th {\n        vertical-align: top;\n    }\n\n    .dataframe thead th {\n        text-align: right;\n    }\n</style>\n<table border=\"1\" class=\"dataframe\">\n  <thead>\n    <tr style=\"text-align: right;\">\n      <th></th>\n      <th>0</th>\n      <th>1</th>\n      <th>2</th>\n      <th>3</th>\n      <th>4</th>\n      <th>5</th>\n      <th>6</th>\n    </tr>\n  </thead>\n  <tbody>\n    <tr>\n      <th>0</th>\n      <td>0</td>\n      <td>0</td>\n      <td>0</td>\n      <td>1</td>\n      <td>0</td>\n      <td>0</td>\n      <td>0</td>\n    </tr>\n    <tr>\n      <th>1</th>\n      <td>0</td>\n      <td>0</td>\n      <td>0</td>\n      <td>0</td>\n      <td>0</td>\n      <td>1</td>\n      <td>0</td>\n    </tr>\n    <tr>\n      <th>2</th>\n      <td>0</td>\n      <td>0</td>\n      <td>0</td>\n      <td>0</td>\n      <td>1</td>\n      <td>0</td>\n      <td>0</td>\n    </tr>\n    <tr>\n      <th>3</th>\n      <td>0</td>\n      <td>0</td>\n      <td>1</td>\n      <td>0</td>\n      <td>0</td>\n      <td>0</td>\n      <td>0</td>\n    </tr>\n    <tr>\n      <th>4</th>\n      <td>0</td>\n      <td>0</td>\n      <td>0</td>\n      <td>0</td>\n      <td>1</td>\n      <td>0</td>\n      <td>0</td>\n    </tr>\n    <tr>\n      <th>...</th>\n      <td>...</td>\n      <td>...</td>\n      <td>...</td>\n      <td>...</td>\n      <td>...</td>\n      <td>...</td>\n      <td>...</td>\n    </tr>\n    <tr>\n      <th>2499995</th>\n      <td>0</td>\n      <td>0</td>\n      <td>0</td>\n      <td>0</td>\n      <td>0</td>\n      <td>0</td>\n      <td>1</td>\n    </tr>\n    <tr>\n      <th>2499996</th>\n      <td>0</td>\n      <td>0</td>\n      <td>0</td>\n      <td>1</td>\n      <td>0</td>\n      <td>0</td>\n      <td>0</td>\n    </tr>\n    <tr>\n      <th>2499997</th>\n      <td>0</td>\n      <td>0</td>\n      <td>0</td>\n      <td>0</td>\n      <td>1</td>\n      <td>0</td>\n      <td>0</td>\n    </tr>\n    <tr>\n      <th>2499998</th>\n      <td>0</td>\n      <td>0</td>\n      <td>0</td>\n      <td>1</td>\n      <td>0</td>\n      <td>0</td>\n      <td>0</td>\n    </tr>\n    <tr>\n      <th>2499999</th>\n      <td>0</td>\n      <td>0</td>\n      <td>0</td>\n      <td>1</td>\n      <td>0</td>\n      <td>0</td>\n      <td>0</td>\n    </tr>\n  </tbody>\n</table>\n<p>2500000 rows × 7 columns</p>\n</div>"
     },
     "execution_count": 68,
     "metadata": {},
     "output_type": "execute_result"
    }
   ],
   "source": [
    "target"
   ],
   "metadata": {
    "collapsed": false,
    "ExecuteTime": {
     "end_time": "2023-10-15T14:30:52.765210200Z",
     "start_time": "2023-10-15T14:30:52.747969Z"
    }
   }
  },
  {
   "cell_type": "code",
   "execution_count": 138,
   "outputs": [
    {
     "name": "stdout",
     "output_type": "stream",
     "text": [
      "Epoch 1/25\n",
      "2000/2000 [==============================] - 16s 8ms/step - loss: 1.5408 - accuracy: 0.3402 - val_loss: 1.5664 - val_accuracy: 0.3116\n",
      "Epoch 2/25\n",
      "2000/2000 [==============================] - 18s 9ms/step - loss: 1.3676 - accuracy: 0.4118 - val_loss: 1.0960 - val_accuracy: 0.5350\n",
      "Epoch 3/25\n",
      "2000/2000 [==============================] - 18s 9ms/step - loss: 1.1249 - accuracy: 0.5216 - val_loss: 0.8809 - val_accuracy: 0.6216\n",
      "Epoch 4/25\n",
      "2000/2000 [==============================] - 18s 9ms/step - loss: 0.9734 - accuracy: 0.5928 - val_loss: 0.7597 - val_accuracy: 0.6770\n",
      "Epoch 5/25\n",
      "2000/2000 [==============================] - 18s 9ms/step - loss: 0.9017 - accuracy: 0.6290 - val_loss: 0.6519 - val_accuracy: 0.7575\n",
      "Epoch 6/25\n",
      "2000/2000 [==============================] - 18s 9ms/step - loss: 0.8690 - accuracy: 0.6433 - val_loss: 0.6268 - val_accuracy: 0.7498\n",
      "Epoch 7/25\n",
      "2000/2000 [==============================] - 18s 9ms/step - loss: 0.8402 - accuracy: 0.6571 - val_loss: 0.6165 - val_accuracy: 0.7774\n",
      "Epoch 8/25\n",
      "2000/2000 [==============================] - 18s 9ms/step - loss: 0.8155 - accuracy: 0.6678 - val_loss: 0.5539 - val_accuracy: 0.8067\n",
      "Epoch 9/25\n",
      "2000/2000 [==============================] - 18s 9ms/step - loss: 0.8030 - accuracy: 0.6726 - val_loss: 0.5665 - val_accuracy: 0.7872\n",
      "Epoch 10/25\n",
      "2000/2000 [==============================] - 19s 9ms/step - loss: 0.7892 - accuracy: 0.6787 - val_loss: 0.5685 - val_accuracy: 0.7995\n",
      "Epoch 11/25\n",
      "2000/2000 [==============================] - 28s 14ms/step - loss: 0.7907 - accuracy: 0.6765 - val_loss: 0.5848 - val_accuracy: 0.7976\n",
      "Epoch 12/25\n",
      "2000/2000 [==============================] - 17s 9ms/step - loss: 0.7921 - accuracy: 0.6764 - val_loss: 0.5861 - val_accuracy: 0.7696\n",
      "Epoch 13/25\n",
      "2000/2000 [==============================] - 19s 9ms/step - loss: 0.7970 - accuracy: 0.6748 - val_loss: 0.6893 - val_accuracy: 0.7494\n",
      "Epoch 14/25\n",
      " 472/2000 [======>.......................] - ETA: 13s - loss: 0.8211 - accuracy: 0.6635"
     ]
    },
    {
     "ename": "KeyboardInterrupt",
     "evalue": "",
     "output_type": "error",
     "traceback": [
      "\u001B[1;31m---------------------------------------------------------------------------\u001B[0m",
      "\u001B[1;31mKeyboardInterrupt\u001B[0m                         Traceback (most recent call last)",
      "Cell \u001B[1;32mIn[138], line 20\u001B[0m\n\u001B[0;32m     17\u001B[0m history \u001B[38;5;241m=\u001B[39m History()\n\u001B[0;32m     19\u001B[0m \u001B[38;5;66;03m# Train the model and use the history object\u001B[39;00m\n\u001B[1;32m---> 20\u001B[0m \u001B[43mmodel\u001B[49m\u001B[38;5;241;43m.\u001B[39;49m\u001B[43mfit\u001B[49m\u001B[43m(\u001B[49m\u001B[43mtrain\u001B[49m\u001B[43m,\u001B[49m\u001B[43m \u001B[49m\u001B[43mtarget\u001B[49m\u001B[43m,\u001B[49m\u001B[43m \u001B[49m\u001B[43mepochs\u001B[49m\u001B[38;5;241;43m=\u001B[39;49m\u001B[38;5;241;43m25\u001B[39;49m\u001B[43m,\u001B[49m\u001B[43m \u001B[49m\u001B[43mcallbacks\u001B[49m\u001B[38;5;241;43m=\u001B[39;49m\u001B[43m[\u001B[49m\u001B[43mhistory\u001B[49m\u001B[43m]\u001B[49m\u001B[43m,\u001B[49m\u001B[43m \u001B[49m\u001B[43mbatch_size\u001B[49m\u001B[38;5;241;43m=\u001B[39;49m\u001B[43m \u001B[49m\u001B[38;5;241;43m1000\u001B[39;49m\u001B[43m,\u001B[49m\u001B[43m \u001B[49m\u001B[43mvalidation_split\u001B[49m\u001B[38;5;241;43m=\u001B[39;49m\u001B[38;5;241;43m0.2\u001B[39;49m\u001B[43m)\u001B[49m\n",
      "File \u001B[1;32m~\\anaconda3\\envs\\SignAIfy\\lib\\site-packages\\keras\\utils\\traceback_utils.py:65\u001B[0m, in \u001B[0;36mfilter_traceback.<locals>.error_handler\u001B[1;34m(*args, **kwargs)\u001B[0m\n\u001B[0;32m     63\u001B[0m filtered_tb \u001B[38;5;241m=\u001B[39m \u001B[38;5;28;01mNone\u001B[39;00m\n\u001B[0;32m     64\u001B[0m \u001B[38;5;28;01mtry\u001B[39;00m:\n\u001B[1;32m---> 65\u001B[0m     \u001B[38;5;28;01mreturn\u001B[39;00m fn(\u001B[38;5;241m*\u001B[39margs, \u001B[38;5;241m*\u001B[39m\u001B[38;5;241m*\u001B[39mkwargs)\n\u001B[0;32m     66\u001B[0m \u001B[38;5;28;01mexcept\u001B[39;00m \u001B[38;5;167;01mException\u001B[39;00m \u001B[38;5;28;01mas\u001B[39;00m e:\n\u001B[0;32m     67\u001B[0m     filtered_tb \u001B[38;5;241m=\u001B[39m _process_traceback_frames(e\u001B[38;5;241m.\u001B[39m__traceback__)\n",
      "File \u001B[1;32m~\\anaconda3\\envs\\SignAIfy\\lib\\site-packages\\keras\\engine\\training.py:1685\u001B[0m, in \u001B[0;36mModel.fit\u001B[1;34m(self, x, y, batch_size, epochs, verbose, callbacks, validation_split, validation_data, shuffle, class_weight, sample_weight, initial_epoch, steps_per_epoch, validation_steps, validation_batch_size, validation_freq, max_queue_size, workers, use_multiprocessing)\u001B[0m\n\u001B[0;32m   1677\u001B[0m \u001B[38;5;28;01mwith\u001B[39;00m tf\u001B[38;5;241m.\u001B[39mprofiler\u001B[38;5;241m.\u001B[39mexperimental\u001B[38;5;241m.\u001B[39mTrace(\n\u001B[0;32m   1678\u001B[0m     \u001B[38;5;124m\"\u001B[39m\u001B[38;5;124mtrain\u001B[39m\u001B[38;5;124m\"\u001B[39m,\n\u001B[0;32m   1679\u001B[0m     epoch_num\u001B[38;5;241m=\u001B[39mepoch,\n\u001B[1;32m   (...)\u001B[0m\n\u001B[0;32m   1682\u001B[0m     _r\u001B[38;5;241m=\u001B[39m\u001B[38;5;241m1\u001B[39m,\n\u001B[0;32m   1683\u001B[0m ):\n\u001B[0;32m   1684\u001B[0m     callbacks\u001B[38;5;241m.\u001B[39mon_train_batch_begin(step)\n\u001B[1;32m-> 1685\u001B[0m     tmp_logs \u001B[38;5;241m=\u001B[39m \u001B[38;5;28;43mself\u001B[39;49m\u001B[38;5;241;43m.\u001B[39;49m\u001B[43mtrain_function\u001B[49m\u001B[43m(\u001B[49m\u001B[43miterator\u001B[49m\u001B[43m)\u001B[49m\n\u001B[0;32m   1686\u001B[0m     \u001B[38;5;28;01mif\u001B[39;00m data_handler\u001B[38;5;241m.\u001B[39mshould_sync:\n\u001B[0;32m   1687\u001B[0m         context\u001B[38;5;241m.\u001B[39masync_wait()\n",
      "File \u001B[1;32m~\\anaconda3\\envs\\SignAIfy\\lib\\site-packages\\tensorflow\\python\\util\\traceback_utils.py:150\u001B[0m, in \u001B[0;36mfilter_traceback.<locals>.error_handler\u001B[1;34m(*args, **kwargs)\u001B[0m\n\u001B[0;32m    148\u001B[0m filtered_tb \u001B[38;5;241m=\u001B[39m \u001B[38;5;28;01mNone\u001B[39;00m\n\u001B[0;32m    149\u001B[0m \u001B[38;5;28;01mtry\u001B[39;00m:\n\u001B[1;32m--> 150\u001B[0m   \u001B[38;5;28;01mreturn\u001B[39;00m fn(\u001B[38;5;241m*\u001B[39margs, \u001B[38;5;241m*\u001B[39m\u001B[38;5;241m*\u001B[39mkwargs)\n\u001B[0;32m    151\u001B[0m \u001B[38;5;28;01mexcept\u001B[39;00m \u001B[38;5;167;01mException\u001B[39;00m \u001B[38;5;28;01mas\u001B[39;00m e:\n\u001B[0;32m    152\u001B[0m   filtered_tb \u001B[38;5;241m=\u001B[39m _process_traceback_frames(e\u001B[38;5;241m.\u001B[39m__traceback__)\n",
      "File \u001B[1;32m~\\anaconda3\\envs\\SignAIfy\\lib\\site-packages\\tensorflow\\python\\eager\\polymorphic_function\\polymorphic_function.py:894\u001B[0m, in \u001B[0;36mFunction.__call__\u001B[1;34m(self, *args, **kwds)\u001B[0m\n\u001B[0;32m    891\u001B[0m compiler \u001B[38;5;241m=\u001B[39m \u001B[38;5;124m\"\u001B[39m\u001B[38;5;124mxla\u001B[39m\u001B[38;5;124m\"\u001B[39m \u001B[38;5;28;01mif\u001B[39;00m \u001B[38;5;28mself\u001B[39m\u001B[38;5;241m.\u001B[39m_jit_compile \u001B[38;5;28;01melse\u001B[39;00m \u001B[38;5;124m\"\u001B[39m\u001B[38;5;124mnonXla\u001B[39m\u001B[38;5;124m\"\u001B[39m\n\u001B[0;32m    893\u001B[0m \u001B[38;5;28;01mwith\u001B[39;00m OptionalXlaContext(\u001B[38;5;28mself\u001B[39m\u001B[38;5;241m.\u001B[39m_jit_compile):\n\u001B[1;32m--> 894\u001B[0m   result \u001B[38;5;241m=\u001B[39m \u001B[38;5;28mself\u001B[39m\u001B[38;5;241m.\u001B[39m_call(\u001B[38;5;241m*\u001B[39margs, \u001B[38;5;241m*\u001B[39m\u001B[38;5;241m*\u001B[39mkwds)\n\u001B[0;32m    896\u001B[0m new_tracing_count \u001B[38;5;241m=\u001B[39m \u001B[38;5;28mself\u001B[39m\u001B[38;5;241m.\u001B[39mexperimental_get_tracing_count()\n\u001B[0;32m    897\u001B[0m without_tracing \u001B[38;5;241m=\u001B[39m (tracing_count \u001B[38;5;241m==\u001B[39m new_tracing_count)\n",
      "File \u001B[1;32m~\\anaconda3\\envs\\SignAIfy\\lib\\site-packages\\tensorflow\\python\\eager\\polymorphic_function\\polymorphic_function.py:926\u001B[0m, in \u001B[0;36mFunction._call\u001B[1;34m(self, *args, **kwds)\u001B[0m\n\u001B[0;32m    923\u001B[0m   \u001B[38;5;28mself\u001B[39m\u001B[38;5;241m.\u001B[39m_lock\u001B[38;5;241m.\u001B[39mrelease()\n\u001B[0;32m    924\u001B[0m   \u001B[38;5;66;03m# In this case we have created variables on the first call, so we run the\u001B[39;00m\n\u001B[0;32m    925\u001B[0m   \u001B[38;5;66;03m# defunned version which is guaranteed to never create variables.\u001B[39;00m\n\u001B[1;32m--> 926\u001B[0m   \u001B[38;5;28;01mreturn\u001B[39;00m \u001B[38;5;28mself\u001B[39m\u001B[38;5;241m.\u001B[39m_no_variable_creation_fn(\u001B[38;5;241m*\u001B[39margs, \u001B[38;5;241m*\u001B[39m\u001B[38;5;241m*\u001B[39mkwds)  \u001B[38;5;66;03m# pylint: disable=not-callable\u001B[39;00m\n\u001B[0;32m    927\u001B[0m \u001B[38;5;28;01melif\u001B[39;00m \u001B[38;5;28mself\u001B[39m\u001B[38;5;241m.\u001B[39m_variable_creation_fn \u001B[38;5;129;01mis\u001B[39;00m \u001B[38;5;129;01mnot\u001B[39;00m \u001B[38;5;28;01mNone\u001B[39;00m:\n\u001B[0;32m    928\u001B[0m   \u001B[38;5;66;03m# Release the lock early so that multiple threads can perform the call\u001B[39;00m\n\u001B[0;32m    929\u001B[0m   \u001B[38;5;66;03m# in parallel.\u001B[39;00m\n\u001B[0;32m    930\u001B[0m   \u001B[38;5;28mself\u001B[39m\u001B[38;5;241m.\u001B[39m_lock\u001B[38;5;241m.\u001B[39mrelease()\n",
      "File \u001B[1;32m~\\anaconda3\\envs\\SignAIfy\\lib\\site-packages\\tensorflow\\python\\eager\\polymorphic_function\\tracing_compiler.py:143\u001B[0m, in \u001B[0;36mTracingCompiler.__call__\u001B[1;34m(self, *args, **kwargs)\u001B[0m\n\u001B[0;32m    140\u001B[0m \u001B[38;5;28;01mwith\u001B[39;00m \u001B[38;5;28mself\u001B[39m\u001B[38;5;241m.\u001B[39m_lock:\n\u001B[0;32m    141\u001B[0m   (concrete_function,\n\u001B[0;32m    142\u001B[0m    filtered_flat_args) \u001B[38;5;241m=\u001B[39m \u001B[38;5;28mself\u001B[39m\u001B[38;5;241m.\u001B[39m_maybe_define_function(args, kwargs)\n\u001B[1;32m--> 143\u001B[0m \u001B[38;5;28;01mreturn\u001B[39;00m \u001B[43mconcrete_function\u001B[49m\u001B[38;5;241;43m.\u001B[39;49m\u001B[43m_call_flat\u001B[49m\u001B[43m(\u001B[49m\n\u001B[0;32m    144\u001B[0m \u001B[43m    \u001B[49m\u001B[43mfiltered_flat_args\u001B[49m\u001B[43m,\u001B[49m\u001B[43m \u001B[49m\u001B[43mcaptured_inputs\u001B[49m\u001B[38;5;241;43m=\u001B[39;49m\u001B[43mconcrete_function\u001B[49m\u001B[38;5;241;43m.\u001B[39;49m\u001B[43mcaptured_inputs\u001B[49m\u001B[43m)\u001B[49m\n",
      "File \u001B[1;32m~\\anaconda3\\envs\\SignAIfy\\lib\\site-packages\\tensorflow\\python\\eager\\polymorphic_function\\monomorphic_function.py:1757\u001B[0m, in \u001B[0;36mConcreteFunction._call_flat\u001B[1;34m(self, args, captured_inputs, cancellation_manager)\u001B[0m\n\u001B[0;32m   1753\u001B[0m possible_gradient_type \u001B[38;5;241m=\u001B[39m gradients_util\u001B[38;5;241m.\u001B[39mPossibleTapeGradientTypes(args)\n\u001B[0;32m   1754\u001B[0m \u001B[38;5;28;01mif\u001B[39;00m (possible_gradient_type \u001B[38;5;241m==\u001B[39m gradients_util\u001B[38;5;241m.\u001B[39mPOSSIBLE_GRADIENT_TYPES_NONE\n\u001B[0;32m   1755\u001B[0m     \u001B[38;5;129;01mand\u001B[39;00m executing_eagerly):\n\u001B[0;32m   1756\u001B[0m   \u001B[38;5;66;03m# No tape is watching; skip to running the function.\u001B[39;00m\n\u001B[1;32m-> 1757\u001B[0m   \u001B[38;5;28;01mreturn\u001B[39;00m \u001B[38;5;28mself\u001B[39m\u001B[38;5;241m.\u001B[39m_build_call_outputs(\u001B[38;5;28;43mself\u001B[39;49m\u001B[38;5;241;43m.\u001B[39;49m\u001B[43m_inference_function\u001B[49m\u001B[38;5;241;43m.\u001B[39;49m\u001B[43mcall\u001B[49m\u001B[43m(\u001B[49m\n\u001B[0;32m   1758\u001B[0m \u001B[43m      \u001B[49m\u001B[43mctx\u001B[49m\u001B[43m,\u001B[49m\u001B[43m \u001B[49m\u001B[43margs\u001B[49m\u001B[43m,\u001B[49m\u001B[43m \u001B[49m\u001B[43mcancellation_manager\u001B[49m\u001B[38;5;241;43m=\u001B[39;49m\u001B[43mcancellation_manager\u001B[49m\u001B[43m)\u001B[49m)\n\u001B[0;32m   1759\u001B[0m forward_backward \u001B[38;5;241m=\u001B[39m \u001B[38;5;28mself\u001B[39m\u001B[38;5;241m.\u001B[39m_select_forward_and_backward_functions(\n\u001B[0;32m   1760\u001B[0m     args,\n\u001B[0;32m   1761\u001B[0m     possible_gradient_type,\n\u001B[0;32m   1762\u001B[0m     executing_eagerly)\n\u001B[0;32m   1763\u001B[0m forward_function, args_with_tangents \u001B[38;5;241m=\u001B[39m forward_backward\u001B[38;5;241m.\u001B[39mforward()\n",
      "File \u001B[1;32m~\\anaconda3\\envs\\SignAIfy\\lib\\site-packages\\tensorflow\\python\\eager\\polymorphic_function\\monomorphic_function.py:381\u001B[0m, in \u001B[0;36m_EagerDefinedFunction.call\u001B[1;34m(self, ctx, args, cancellation_manager)\u001B[0m\n\u001B[0;32m    379\u001B[0m \u001B[38;5;28;01mwith\u001B[39;00m _InterpolateFunctionError(\u001B[38;5;28mself\u001B[39m):\n\u001B[0;32m    380\u001B[0m   \u001B[38;5;28;01mif\u001B[39;00m cancellation_manager \u001B[38;5;129;01mis\u001B[39;00m \u001B[38;5;28;01mNone\u001B[39;00m:\n\u001B[1;32m--> 381\u001B[0m     outputs \u001B[38;5;241m=\u001B[39m \u001B[43mexecute\u001B[49m\u001B[38;5;241;43m.\u001B[39;49m\u001B[43mexecute\u001B[49m\u001B[43m(\u001B[49m\n\u001B[0;32m    382\u001B[0m \u001B[43m        \u001B[49m\u001B[38;5;28;43mstr\u001B[39;49m\u001B[43m(\u001B[49m\u001B[38;5;28;43mself\u001B[39;49m\u001B[38;5;241;43m.\u001B[39;49m\u001B[43msignature\u001B[49m\u001B[38;5;241;43m.\u001B[39;49m\u001B[43mname\u001B[49m\u001B[43m)\u001B[49m\u001B[43m,\u001B[49m\n\u001B[0;32m    383\u001B[0m \u001B[43m        \u001B[49m\u001B[43mnum_outputs\u001B[49m\u001B[38;5;241;43m=\u001B[39;49m\u001B[38;5;28;43mself\u001B[39;49m\u001B[38;5;241;43m.\u001B[39;49m\u001B[43m_num_outputs\u001B[49m\u001B[43m,\u001B[49m\n\u001B[0;32m    384\u001B[0m \u001B[43m        \u001B[49m\u001B[43minputs\u001B[49m\u001B[38;5;241;43m=\u001B[39;49m\u001B[43margs\u001B[49m\u001B[43m,\u001B[49m\n\u001B[0;32m    385\u001B[0m \u001B[43m        \u001B[49m\u001B[43mattrs\u001B[49m\u001B[38;5;241;43m=\u001B[39;49m\u001B[43mattrs\u001B[49m\u001B[43m,\u001B[49m\n\u001B[0;32m    386\u001B[0m \u001B[43m        \u001B[49m\u001B[43mctx\u001B[49m\u001B[38;5;241;43m=\u001B[39;49m\u001B[43mctx\u001B[49m\u001B[43m)\u001B[49m\n\u001B[0;32m    387\u001B[0m   \u001B[38;5;28;01melse\u001B[39;00m:\n\u001B[0;32m    388\u001B[0m     outputs \u001B[38;5;241m=\u001B[39m execute\u001B[38;5;241m.\u001B[39mexecute_with_cancellation(\n\u001B[0;32m    389\u001B[0m         \u001B[38;5;28mstr\u001B[39m(\u001B[38;5;28mself\u001B[39m\u001B[38;5;241m.\u001B[39msignature\u001B[38;5;241m.\u001B[39mname),\n\u001B[0;32m    390\u001B[0m         num_outputs\u001B[38;5;241m=\u001B[39m\u001B[38;5;28mself\u001B[39m\u001B[38;5;241m.\u001B[39m_num_outputs,\n\u001B[1;32m   (...)\u001B[0m\n\u001B[0;32m    393\u001B[0m         ctx\u001B[38;5;241m=\u001B[39mctx,\n\u001B[0;32m    394\u001B[0m         cancellation_manager\u001B[38;5;241m=\u001B[39mcancellation_manager)\n",
      "File \u001B[1;32m~\\anaconda3\\envs\\SignAIfy\\lib\\site-packages\\tensorflow\\python\\eager\\execute.py:52\u001B[0m, in \u001B[0;36mquick_execute\u001B[1;34m(op_name, num_outputs, inputs, attrs, ctx, name)\u001B[0m\n\u001B[0;32m     50\u001B[0m \u001B[38;5;28;01mtry\u001B[39;00m:\n\u001B[0;32m     51\u001B[0m   ctx\u001B[38;5;241m.\u001B[39mensure_initialized()\n\u001B[1;32m---> 52\u001B[0m   tensors \u001B[38;5;241m=\u001B[39m \u001B[43mpywrap_tfe\u001B[49m\u001B[38;5;241;43m.\u001B[39;49m\u001B[43mTFE_Py_Execute\u001B[49m\u001B[43m(\u001B[49m\u001B[43mctx\u001B[49m\u001B[38;5;241;43m.\u001B[39;49m\u001B[43m_handle\u001B[49m\u001B[43m,\u001B[49m\u001B[43m \u001B[49m\u001B[43mdevice_name\u001B[49m\u001B[43m,\u001B[49m\u001B[43m \u001B[49m\u001B[43mop_name\u001B[49m\u001B[43m,\u001B[49m\n\u001B[0;32m     53\u001B[0m \u001B[43m                                      \u001B[49m\u001B[43minputs\u001B[49m\u001B[43m,\u001B[49m\u001B[43m \u001B[49m\u001B[43mattrs\u001B[49m\u001B[43m,\u001B[49m\u001B[43m \u001B[49m\u001B[43mnum_outputs\u001B[49m\u001B[43m)\u001B[49m\n\u001B[0;32m     54\u001B[0m \u001B[38;5;28;01mexcept\u001B[39;00m core\u001B[38;5;241m.\u001B[39m_NotOkStatusException \u001B[38;5;28;01mas\u001B[39;00m e:\n\u001B[0;32m     55\u001B[0m   \u001B[38;5;28;01mif\u001B[39;00m name \u001B[38;5;129;01mis\u001B[39;00m \u001B[38;5;129;01mnot\u001B[39;00m \u001B[38;5;28;01mNone\u001B[39;00m:\n",
      "\u001B[1;31mKeyboardInterrupt\u001B[0m: "
     ]
    }
   ],
   "source": [
    "model = Sequential()\n",
    "model.add(Dense(256, input_dim=train.shape[1], activation='relu'))\n",
    "model.add(Dropout(0.2))\n",
    "model.add(Dense(128, activation='relu'))\n",
    "model.add(Dropout(0.1))\n",
    "model.add(Dense(128, activation='tanh'))\n",
    "model.add(Dropout(0.1))\n",
    "model.add(Dense(64, activation='relu'))\n",
    "model.add(Dropout(0.2))\n",
    "model.add(Dense(64, activation='tanh'))\n",
    "model.add(Dropout(0.25))\n",
    "model.add(Dense(7, activation='softmax'))\n",
    "\n",
    "# Compile the model\n",
    "model.compile(loss='categorical_crossentropy', optimizer='adam', metrics=['accuracy'])\n",
    "# Create a History object to capture training history\n",
    "history = History()\n",
    "\n",
    "# Train the model and use the history object\n",
    "model.fit(train, target, epochs=25, callbacks=[history], batch_size= 1000, validation_split=0.2)"
   ],
   "metadata": {
    "collapsed": false,
    "ExecuteTime": {
     "end_time": "2023-10-15T14:57:47.846738Z",
     "start_time": "2023-10-15T14:53:39.812125500Z"
    }
   }
  },
  {
   "cell_type": "code",
   "execution_count": 121,
   "outputs": [],
   "source": [
    "test = pd.read_csv(\"../data/test.csv\")"
   ],
   "metadata": {
    "collapsed": false,
    "ExecuteTime": {
     "end_time": "2023-10-15T14:49:09.818348600Z",
     "start_time": "2023-10-15T14:49:08.096550800Z"
    }
   }
  },
  {
   "cell_type": "code",
   "execution_count": 122,
   "outputs": [],
   "source": [
    "test.drop([\"Unnamed: 0\",\n",
    "    \"N°DPE\",\n",
    "    \"Nom__commune_(Brut)\",\n",
    "    \"N°_département_(BAN)\",\n",
    "    \"Code_INSEE_(BAN)\",\n",
    "    \"Code_postal_(brut)\",\n",
    "    \"Code_postal_(BAN)\",\n",
    "    \"Description_générateur_chauffage_n°2_installation_n°2\",\n",
    "    \"Cage_d'escalier\",\n",
    "    \"Configuration_installation_chauffage_n°2\",\n",
    "    \"Type_générateur_froid\",\n",
    "    \"Type_émetteur_installation_chauffage_n°2\",\n",
    "    \"Type_énergie_n°3\",\n",
    "    \"Type_générateur_n°1_installation_n°2\",\n",
    "    \"Qualité_isolation_plancher_haut_toit_terrase\",\n",
    "    \"Facteur_couverture_solaire_saisi\",\n",
    "    \"Surface_totale_capteurs_photovoltaïque\",\n",
    "    \"Facteur_couverture_solaire\",\n",
    "    \"Cage_d'escalier\",\n",
    "    \"Surface_habitable_immeuble\",\n",
    "    \"Qualité_isolation_plancher_haut_comble_aménagé\"], axis = 1, inplace = True)"
   ],
   "metadata": {
    "collapsed": false,
    "ExecuteTime": {
     "end_time": "2023-10-15T14:49:11.021154900Z",
     "start_time": "2023-10-15T14:49:11.012595200Z"
    }
   }
  },
  {
   "cell_type": "code",
   "execution_count": 123,
   "outputs": [],
   "source": [
    "le1 = LabelEncoder()\n",
    "le2 = LabelEncoder()\n",
    "le3 = LabelEncoder()\n",
    "le4 = LabelEncoder()\n",
    "le5 = LabelEncoder()\n",
    "le6 = LabelEncoder()\n",
    "le7 = LabelEncoder()\n",
    "le8 = LabelEncoder()\n",
    "le9 = LabelEncoder()"
   ],
   "metadata": {
    "collapsed": false,
    "ExecuteTime": {
     "end_time": "2023-10-15T14:49:11.113236100Z",
     "start_time": "2023-10-15T14:49:11.084613800Z"
    }
   }
  },
  {
   "cell_type": "code",
   "execution_count": 124,
   "outputs": [],
   "source": [
    "test.Type_bâtiment = le1.fit_transform(test.Type_bâtiment)\n",
    "test.Qualité_isolation_plancher_haut_comble_perdu = le2.fit_transform(test.Qualité_isolation_plancher_haut_comble_perdu)\n",
    "test.Qualité_isolation_enveloppe = le3.fit_transform(test.Qualité_isolation_enveloppe)\n",
    "test.Qualité_isolation_menuiseries = le4.fit_transform(test.Qualité_isolation_menuiseries)\n",
    "test.Qualité_isolation_murs = le5.fit_transform(test.Qualité_isolation_murs)\n",
    "test.Qualité_isolation_plancher_bas = le6.fit_transform(test.Qualité_isolation_plancher_bas)\n",
    "test.Etiquette_GES = le7.fit_transform(test.Etiquette_GES)\n",
    "test.Classe_altitude = le8.fit_transform(test.Classe_altitude)\n",
    "test.Etiquette_DPE = le9.fit_transform(test.Etiquette_DPE)"
   ],
   "metadata": {
    "collapsed": false,
    "ExecuteTime": {
     "end_time": "2023-10-15T14:49:12.002869200Z",
     "start_time": "2023-10-15T14:49:11.316308300Z"
    }
   }
  },
  {
   "cell_type": "code",
   "execution_count": 125,
   "outputs": [],
   "source": [
    "test = test.fillna(value=0)\n",
    "\n",
    "test = test.astype(float)"
   ],
   "metadata": {
    "collapsed": false,
    "ExecuteTime": {
     "end_time": "2023-10-15T14:49:12.086189200Z",
     "start_time": "2023-10-15T14:49:12.000869Z"
    }
   }
  },
  {
   "cell_type": "code",
   "execution_count": 126,
   "outputs": [],
   "source": [
    "test_target = test['Etiquette_DPE']\n",
    "test.drop(\"Etiquette_DPE\", axis = 1, inplace = True)"
   ],
   "metadata": {
    "collapsed": false,
    "ExecuteTime": {
     "end_time": "2023-10-15T14:49:12.154287Z",
     "start_time": "2023-10-15T14:49:12.108219500Z"
    }
   }
  },
  {
   "cell_type": "code",
   "execution_count": 127,
   "outputs": [],
   "source": [
    "test_target = test_target.astype(int)"
   ],
   "metadata": {
    "collapsed": false,
    "ExecuteTime": {
     "end_time": "2023-10-15T14:49:12.158805700Z",
     "start_time": "2023-10-15T14:49:12.128294800Z"
    }
   }
  },
  {
   "cell_type": "code",
   "execution_count": 128,
   "outputs": [
    {
     "name": "stdout",
     "output_type": "stream",
     "text": [
      "15625/15625 [==============================] - 11s 694us/step\n"
     ]
    }
   ],
   "source": [
    "decision_tree_predictions = decision_tree.predict(test)\n",
    "neural_network_predictions = model.predict(test)\n"
   ],
   "metadata": {
    "collapsed": false,
    "ExecuteTime": {
     "end_time": "2023-10-15T14:49:25.506024100Z",
     "start_time": "2023-10-15T14:49:12.140775500Z"
    }
   }
  },
  {
   "cell_type": "code",
   "execution_count": 130,
   "outputs": [],
   "source": [
    "neural_network_predictions = [np.argmax(prediction) for prediction in neural_network_predictions]"
   ],
   "metadata": {
    "collapsed": false,
    "ExecuteTime": {
     "end_time": "2023-10-15T14:49:26.190372600Z",
     "start_time": "2023-10-15T14:49:25.524539600Z"
    }
   }
  },
  {
   "cell_type": "code",
   "execution_count": 131,
   "outputs": [],
   "source": [
    "neural_network_predictions = np.array(neural_network_predictions)"
   ],
   "metadata": {
    "collapsed": false,
    "ExecuteTime": {
     "end_time": "2023-10-15T14:49:26.222183500Z",
     "start_time": "2023-10-15T14:49:26.212643300Z"
    }
   }
  },
  {
   "cell_type": "code",
   "execution_count": 132,
   "outputs": [],
   "source": [
    "ensemble_predictions = [max(set(predictions), key=predictions.count) for predictions in zip(decision_tree_predictions, neural_network_predictions)]\n"
   ],
   "metadata": {
    "collapsed": false,
    "ExecuteTime": {
     "end_time": "2023-10-15T14:49:26.545642400Z",
     "start_time": "2023-10-15T14:49:26.220188800Z"
    }
   }
  },
  {
   "cell_type": "code",
   "execution_count": 133,
   "outputs": [
    {
     "name": "stdout",
     "output_type": "stream",
     "text": [
      "Ensemble Accuracy: 0.905742\n"
     ]
    }
   ],
   "source": [
    "accuracy = accuracy_score(test_target, ensemble_predictions)\n",
    "print(\"Ensemble Accuracy:\", accuracy)"
   ],
   "metadata": {
    "collapsed": false,
    "ExecuteTime": {
     "end_time": "2023-10-15T14:49:26.659189500Z",
     "start_time": "2023-10-15T14:49:26.547643900Z"
    }
   }
  },
  {
   "cell_type": "code",
   "execution_count": null,
   "outputs": [],
   "source": [],
   "metadata": {
    "collapsed": false
   }
  }
 ],
 "metadata": {
  "kernelspec": {
   "display_name": "Python 3",
   "language": "python",
   "name": "python3"
  },
  "language_info": {
   "codemirror_mode": {
    "name": "ipython",
    "version": 2
   },
   "file_extension": ".py",
   "mimetype": "text/x-python",
   "name": "python",
   "nbconvert_exporter": "python",
   "pygments_lexer": "ipython2",
   "version": "2.7.6"
  }
 },
 "nbformat": 4,
 "nbformat_minor": 0
}
